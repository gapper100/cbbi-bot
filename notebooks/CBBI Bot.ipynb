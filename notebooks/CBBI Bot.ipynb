{
 "cells": [
  {
   "cell_type": "markdown",
   "id": "systematic-commissioner",
   "metadata": {},
   "source": [
    "# CBBI Index Telegram Bot"
   ]
  },
  {
   "cell_type": "markdown",
   "id": "renewable-muslim",
   "metadata": {},
   "source": [
    "## Imports"
   ]
  },
  {
   "cell_type": "code",
   "execution_count": 10,
   "id": "recognized-focus",
   "metadata": {},
   "outputs": [],
   "source": [
    "import requests\n",
    "import json\n",
    "import pytz\n",
    "from datetime import datetime, date, time, timezone, timedelta\n",
    "\n",
    "API_URL = \"https://colintalkscrypto.com/cbbi/data/latest.json\"\n",
    "user_agent = \"Mozilla/5.0 (X11; CrOS x86_64 8172.45.0) AppleWebKit/537.36 (KHTML, like Gecko) Chrome/51.0.2704.64 Safari/537.36\""
   ]
  },
  {
   "cell_type": "markdown",
   "id": "thick-assistant",
   "metadata": {},
   "source": [
    "## Get data"
   ]
  },
  {
   "cell_type": "code",
   "execution_count": 2,
   "id": "agreed-lying",
   "metadata": {},
   "outputs": [],
   "source": [
    "data = requests.get(API_URL, headers={\"User-Agent\": user_agent}).json()"
   ]
  },
  {
   "cell_type": "markdown",
   "id": "continuous-consumer",
   "metadata": {},
   "source": [
    "## Get UTC Timestamp for midnight today"
   ]
  },
  {
   "cell_type": "code",
   "execution_count": 17,
   "id": "transsexual-sunrise",
   "metadata": {},
   "outputs": [
    {
     "data": {
      "text/plain": [
       "'1620000000'"
      ]
     },
     "execution_count": 17,
     "metadata": {},
     "output_type": "execute_result"
    }
   ],
   "source": [
    "today_date = date.today()\n",
    "midnight_here = datetime.combine(today_date, time())\n",
    "\n",
    "tz = pytz.timezone(\"UTC\")\n",
    "midnight_utc = tz.localize(midnight_here)\n",
    "\n",
    "today_timestamp = str(int(midnight_utc.timestamp()))\n",
    "today_timestamp"
   ]
  },
  {
   "cell_type": "code",
   "execution_count": 19,
   "id": "brown-lighter",
   "metadata": {},
   "outputs": [
    {
     "data": {
      "text/plain": [
       "'1619913600'"
      ]
     },
     "execution_count": 19,
     "metadata": {},
     "output_type": "execute_result"
    }
   ],
   "source": [
    "today_date = date.today()\n",
    "yesterday_date = today_date - timedelta(days=1)\n",
    "yesterday_midnight_here = datetime.combine(yesterday_date, time())\n",
    "\n",
    "tz = pytz.timezone(\"UTC\")\n",
    "yesterday_midnight_utc = tz.localize(yesterday_midnight_here)\n",
    "\n",
    "yesterday_timestamp = str(int(yesterday_midnight_utc.timestamp()))\n",
    "yesterday_timestamp"
   ]
  },
  {
   "cell_type": "markdown",
   "id": "crazy-sherman",
   "metadata": {},
   "source": [
    "## Get pretty format for today's date"
   ]
  },
  {
   "cell_type": "code",
   "execution_count": 8,
   "id": "apart-empire",
   "metadata": {},
   "outputs": [],
   "source": [
    "def suffix(day):\n",
    "    return 'th' if 11<=day<=13 else {1:'st',2:'nd',3:'rd'}.get(day%10, 'th')\n",
    "\n",
    "def custom_strftime(format_, timestamp):\n",
    "    return timestamp.strftime(format_).replace('{S}', str(timestamp.day) + suffix(timestamp.day))\n",
    "\n",
    "pretty_date_string = custom_strftime('%B {S}, %Y', midnight_utc)"
   ]
  },
  {
   "cell_type": "markdown",
   "id": "public-color",
   "metadata": {},
   "source": [
    "## Format Telegram message"
   ]
  },
  {
   "cell_type": "code",
   "execution_count": 5,
   "id": "modified-transcription",
   "metadata": {},
   "outputs": [],
   "source": [
    "message = f\"\"\"CBBI Index report for {pretty_date_string}\n",
    "{'-'*(22+len(pretty_date_string))}\n",
    "\n",
    "*CBBI index: {data['Confidence'][today_timestamp]:.0%}*\n",
    "\n",
    "Bitcoin price: ${data['Price'][today_timestamp]:.0F},-\n",
    "\n",
    "_The Golden 51%-49% Ratio: {data['GoldenRatio'][today_timestamp]:.0%}_\n",
    "_\"Bitcoin\" search term (Google): {data['GoogleTrends'][today_timestamp]:.0%}_\n",
    "_Stock-To-Flow Chart: {data['StockToFlow'][today_timestamp]:.0%}_\n",
    "_Pi Cycle Top Indicator: {data['PiCycle'][today_timestamp]:.0%}_\n",
    "_2 Year Moving Average: {data['2YMA'][today_timestamp]:.0%}_\n",
    "_Bitcoin Trolololo Trend Line: {data['Trolololo'][today_timestamp]:.0%}_\n",
    "_RUPL/NUPL Chart: {data['RUPL'][today_timestamp]:.0%}_\n",
    "_Puell Multiple: {data['Puell'][today_timestamp]:.0%}_\n",
    "_MVRV Z-score: {data['MVRV'][today_timestamp]:.0%}_\n",
    "_RHODL Ratio: {data['RHODL'][today_timestamp]:.0%}_\n",
    "_Reserve Risk: {data['ReserveRisk'][today_timestamp]:.0%}_\"\"\""
   ]
  },
  {
   "cell_type": "code",
   "execution_count": 6,
   "id": "upper-marriage",
   "metadata": {},
   "outputs": [
    {
     "name": "stdout",
     "output_type": "stream",
     "text": [
      "CBBI Index report for May 3rd, 2021\n",
      "-----------------------------------\n",
      "\n",
      "*CBBI index: 69%*\n",
      "\n",
      "Bitcoin price: $56601,-\n",
      "\n",
      "_The Golden 51%-49% Ratio: 86%_\n",
      "_\"Bitcoin\" search term (Google): 2%_\n",
      "_Stock-To-Flow Chart: 88%_\n",
      "_Pi Cycle Top Indicator: 98%_\n",
      "_2 Year Moving Average: 76%_\n",
      "_Bitcoin Trolololo Trend Line: 77%_\n",
      "_RUPL/NUPL Chart: 90%_\n",
      "_Puell Multiple: 74%_\n",
      "_MVRV Z-score: 46%_\n",
      "_RHODL Ratio: 66%_\n",
      "_Reserve Risk: 59%_\n"
     ]
    }
   ],
   "source": [
    "print(message)"
   ]
  }
 ],
 "metadata": {
  "kernelspec": {
   "display_name": "Python [conda env:root] *",
   "language": "python",
   "name": "conda-root-py"
  },
  "language_info": {
   "codemirror_mode": {
    "name": "ipython",
    "version": 3
   },
   "file_extension": ".py",
   "mimetype": "text/x-python",
   "name": "python",
   "nbconvert_exporter": "python",
   "pygments_lexer": "ipython3",
   "version": "3.8.3"
  }
 },
 "nbformat": 4,
 "nbformat_minor": 5
}
